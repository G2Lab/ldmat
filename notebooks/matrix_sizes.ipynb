{
 "cells": [
  {
   "cell_type": "code",
   "execution_count": null,
   "id": "db51434d",
   "metadata": {},
   "outputs": [],
   "source": [
    "counts = [230100187789,\n",
    " 250687059119,\n",
    " 214320813467,\n",
    " 229239019220,\n",
    " 191902936246,\n",
    " 194027778937,\n",
    " 183758337673,\n",
    " 178913038997,\n",
    " 137542368250,\n",
    " 156507139727,\n",
    " 151509723222,\n",
    " 143405046272,\n",
    " 110111820506,\n",
    " 99965963137,\n",
    " 88967166105,\n",
    " 113983142043,\n",
    " 81596303792,\n",
    " 86084837421,\n",
    " 78132681169,\n",
    " 65439767243,\n",
    " 45184453878,\n",
    " 46157338212]"
   ]
  },
  {
   "cell_type": "code",
   "execution_count": null,
   "id": "30a2ed92",
   "metadata": {},
   "outputs": [],
   "source": [
    "from matplotlib import pyplot as plt"
   ]
  },
  {
   "cell_type": "code",
   "execution_count": null,
   "id": "2ff28fc9",
   "metadata": {},
   "outputs": [],
   "source": [
    "plt.plot(counts)"
   ]
  },
  {
   "cell_type": "code",
   "execution_count": null,
   "id": "5499c87a",
   "metadata": {},
   "outputs": [],
   "source": [
    "gigabyte_counts = [count / 1e9 for count in counts]"
   ]
  },
  {
   "cell_type": "code",
   "execution_count": null,
   "id": "f59128ea",
   "metadata": {},
   "outputs": [],
   "source": [
    "gigabyte_counts"
   ]
  },
  {
   "cell_type": "code",
   "execution_count": null,
   "id": "0f9c4da9",
   "metadata": {},
   "outputs": [],
   "source": [
    "plt.plot(range(1,23), gigabyte_counts, 'o')"
   ]
  },
  {
   "cell_type": "code",
   "execution_count": null,
   "id": "0265251b",
   "metadata": {},
   "outputs": [],
   "source": [
    "plt.scatter(range(1,23), gigabyte_counts)\n",
    "plt.ylabel('GB')\n",
    "plt.xlabel('Chromosome')\n",
    "plt.savefig('matrix_size.png', dpi=1000)"
   ]
  },
  {
   "cell_type": "code",
   "execution_count": null,
   "id": "237034dc",
   "metadata": {},
   "outputs": [],
   "source": []
  }
 ],
 "metadata": {
  "kernelspec": {
   "display_name": "ld-venv",
   "language": "python",
   "name": "ld-venv"
  },
  "language_info": {
   "codemirror_mode": {
    "name": "ipython",
    "version": 3
   },
   "file_extension": ".py",
   "mimetype": "text/x-python",
   "name": "python",
   "nbconvert_exporter": "python",
   "pygments_lexer": "ipython3",
   "version": "3.9.12"
  }
 },
 "nbformat": 4,
 "nbformat_minor": 5
}
