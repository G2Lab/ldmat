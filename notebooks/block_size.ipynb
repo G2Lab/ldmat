{
 "cells": [
  {
   "cell_type": "code",
   "execution_count": null,
   "id": "2f8cc06d",
   "metadata": {},
   "outputs": [],
   "source": [
    "import numpy as np\n",
    "import scipy.sparse as sparse\n",
    "import scipy.linalg as linalg\n",
    "import os\n",
    "import pandas as pd\n",
    "import click\n",
    "import shutil\n",
    "from heapq import merge"
   ]
  },
  {
   "cell_type": "code",
   "execution_count": null,
   "id": "e564608f",
   "metadata": {},
   "outputs": [],
   "source": [
    "m = sparse.triu(sparse.load_npz('data/chr1_1_3000001.npz').T, format=\"csr\")"
   ]
  },
  {
   "cell_type": "code",
   "execution_count": null,
   "id": "0aaa74a3",
   "metadata": {},
   "outputs": [],
   "source": [
    "from main import adjust_to_zero"
   ]
  },
  {
   "cell_type": "code",
   "execution_count": null,
   "id": "4d0e93ba",
   "metadata": {},
   "outputs": [],
   "source": [
    "m"
   ]
  },
  {
   "cell_type": "code",
   "execution_count": null,
   "id": "3695a2c0",
   "metadata": {},
   "outputs": [],
   "source": [
    "reduced = adjust_to_zero(m, .1)"
   ]
  },
  {
   "cell_type": "code",
   "execution_count": null,
   "id": "03c5c028",
   "metadata": {},
   "outputs": [],
   "source": [
    "reduced"
   ]
  },
  {
   "cell_type": "code",
   "execution_count": null,
   "id": "a25caad9",
   "metadata": {},
   "outputs": [],
   "source": [
    "d = reduced.diagonal()"
   ]
  },
  {
   "cell_type": "code",
   "execution_count": null,
   "id": "59af352c",
   "metadata": {},
   "outputs": [],
   "source": [
    "nonzeros = [np.count_nonzero(reduced.diagonal(i)) for i in range(reduced.shape[0])]\n"
   ]
  },
  {
   "cell_type": "code",
   "execution_count": null,
   "id": "bd41d3ad",
   "metadata": {},
   "outputs": [],
   "source": [
    "import matplotlib.pyplot as plt\n",
    "%matplotlib inline"
   ]
  },
  {
   "cell_type": "code",
   "execution_count": null,
   "id": "025617ba",
   "metadata": {},
   "outputs": [],
   "source": [
    "plt.plot(nonzeros[1:])"
   ]
  },
  {
   "cell_type": "code",
   "execution_count": null,
   "id": "9db72056",
   "metadata": {},
   "outputs": [],
   "source": [
    "nonzeros[5000]"
   ]
  },
  {
   "cell_type": "code",
   "execution_count": null,
   "id": "39c91c59",
   "metadata": {},
   "outputs": [],
   "source": [
    "nonzeros[10000]"
   ]
  },
  {
   "cell_type": "code",
   "execution_count": null,
   "id": "c28f38ef",
   "metadata": {},
   "outputs": [],
   "source": [
    "min(nonzeros)"
   ]
  },
  {
   "cell_type": "code",
   "execution_count": null,
   "id": "64e835c5",
   "metadata": {},
   "outputs": [],
   "source": [
    "np.log(reduced.shape[0])"
   ]
  },
  {
   "cell_type": "code",
   "execution_count": null,
   "id": "1891a90d",
   "metadata": {},
   "outputs": [],
   "source": [
    "nonzeros[8000]"
   ]
  },
  {
   "cell_type": "code",
   "execution_count": null,
   "id": "72669365",
   "metadata": {},
   "outputs": [],
   "source": [
    "np.argmin(np.array(nonzeros) > np.log(reduced.shape[0]) * 2)"
   ]
  },
  {
   "cell_type": "code",
   "execution_count": null,
   "id": "734efc8d",
   "metadata": {},
   "outputs": [],
   "source": [
    "nonzeros[1]"
   ]
  },
  {
   "cell_type": "code",
   "execution_count": null,
   "id": "240cce3c",
   "metadata": {},
   "outputs": [],
   "source": [
    "sum(nonzeros[5884:])"
   ]
  },
  {
   "cell_type": "code",
   "execution_count": null,
   "id": "7caa4ead",
   "metadata": {},
   "outputs": [],
   "source": [
    "sum(nonzeros[:5884])"
   ]
  },
  {
   "cell_type": "code",
   "execution_count": null,
   "id": "1cd0fb62",
   "metadata": {},
   "outputs": [],
   "source": [
    "# first index where num nonzeros is less than half of the length"
   ]
  },
  {
   "cell_type": "code",
   "execution_count": null,
   "id": "6f89e631",
   "metadata": {},
   "outputs": [],
   "source": [
    "nonzeros[2000]"
   ]
  },
  {
   "cell_type": "code",
   "execution_count": null,
   "id": "0ff29504",
   "metadata": {},
   "outputs": [],
   "source": [
    "nonzeros[1000]"
   ]
  },
  {
   "cell_type": "code",
   "execution_count": null,
   "id": "4b840f55",
   "metadata": {},
   "outputs": [],
   "source": [
    "relative = nonzeros / np.arange(len(nonzeros))"
   ]
  },
  {
   "cell_type": "code",
   "execution_count": null,
   "id": "cbd5c5d0",
   "metadata": {},
   "outputs": [],
   "source": [
    "plt.plot(relative[1:])"
   ]
  },
  {
   "cell_type": "code",
   "execution_count": null,
   "id": "6cbb0e81",
   "metadata": {},
   "outputs": [],
   "source": [
    "np.argmax(relative < .5)"
   ]
  },
  {
   "cell_type": "code",
   "execution_count": null,
   "id": "e07bf56a",
   "metadata": {},
   "outputs": [],
   "source": [
    "relative[1748]"
   ]
  },
  {
   "cell_type": "code",
   "execution_count": null,
   "id": "d0ede63b",
   "metadata": {},
   "outputs": [],
   "source": [
    "relative[1747]"
   ]
  },
  {
   "cell_type": "code",
   "execution_count": null,
   "id": "a4bdb918",
   "metadata": {},
   "outputs": [],
   "source": [
    "nonzeros[1747]"
   ]
  },
  {
   "cell_type": "code",
   "execution_count": null,
   "id": "69a9f96e",
   "metadata": {},
   "outputs": [],
   "source": [
    "np.argmin(relative > .5)"
   ]
  },
  {
   "cell_type": "code",
   "execution_count": null,
   "id": "5bdd08f0",
   "metadata": {},
   "outputs": [],
   "source": [
    "relative[1709:1712]"
   ]
  },
  {
   "cell_type": "code",
   "execution_count": null,
   "id": "0918043b",
   "metadata": {},
   "outputs": [],
   "source": [
    "plt.plot(relative[1000:])"
   ]
  },
  {
   "cell_type": "code",
   "execution_count": null,
   "id": "4187e2e0",
   "metadata": {},
   "outputs": [],
   "source": [
    "np.argmin(nonzeros)"
   ]
  },
  {
   "cell_type": "code",
   "execution_count": null,
   "id": "6cde247e",
   "metadata": {},
   "outputs": [],
   "source": [
    "nonzeros[8711]"
   ]
  },
  {
   "cell_type": "code",
   "execution_count": null,
   "id": "9b70af86",
   "metadata": {},
   "outputs": [],
   "source": [
    "np.argmax(relative < .5)"
   ]
  },
  {
   "cell_type": "code",
   "execution_count": null,
   "id": "249e5c26",
   "metadata": {},
   "outputs": [],
   "source": []
  }
 ],
 "metadata": {
  "kernelspec": {
   "display_name": "ld-venv",
   "language": "python",
   "name": "ld-venv"
  },
  "language_info": {
   "codemirror_mode": {
    "name": "ipython",
    "version": 3
   },
   "file_extension": ".py",
   "mimetype": "text/x-python",
   "name": "python",
   "nbconvert_exporter": "python",
   "pygments_lexer": "ipython3",
   "version": "3.9.12"
  }
 },
 "nbformat": 4,
 "nbformat_minor": 5
}
