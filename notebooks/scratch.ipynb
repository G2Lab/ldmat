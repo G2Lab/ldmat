{
 "cells": [
  {
   "cell_type": "code",
   "execution_count": 8,
   "id": "5e97dc9f",
   "metadata": {},
   "outputs": [],
   "source": [
    "import numpy as np\n",
    "import scipy.sparse as sp\n",
    "import matplotlib.pyplot as pyplot\n",
    "import pandas as pd\n",
    "%matplotlib inline"
   ]
  },
  {
   "cell_type": "code",
   "execution_count": 2,
   "id": "7f7537e6",
   "metadata": {},
   "outputs": [],
   "source": [
    "sp_mat = sp.load_npz('chr16_82000001_85000001.npz')"
   ]
  },
  {
   "cell_type": "code",
   "execution_count": 3,
   "id": "c2bbd845",
   "metadata": {},
   "outputs": [
    {
     "data": {
      "text/plain": [
       "<35503x35503 sparse matrix of type '<class 'numpy.float32'>'\n",
       "\twith 630249218 stored elements in COOrdinate format>"
      ]
     },
     "execution_count": 3,
     "metadata": {},
     "output_type": "execute_result"
    }
   ],
   "source": [
    "sp_mat"
   ]
  },
  {
   "cell_type": "code",
   "execution_count": null,
   "id": "150dc046",
   "metadata": {},
   "outputs": [],
   "source": [
    "sp_mat = sp.tril(sp_mat)"
   ]
  },
  {
   "cell_type": "code",
   "execution_count": null,
   "id": "15305900",
   "metadata": {},
   "outputs": [],
   "source": [
    "sp_mat.diagonal(0)"
   ]
  },
  {
   "cell_type": "code",
   "execution_count": null,
   "id": "c97c762b",
   "metadata": {},
   "outputs": [],
   "source": [
    "sp_mat.diagonal(-35500)"
   ]
  },
  {
   "cell_type": "code",
   "execution_count": null,
   "id": "d1a74dec",
   "metadata": {},
   "outputs": [],
   "source": [
    "m = sp_mat.tocsr()"
   ]
  },
  {
   "cell_type": "code",
   "execution_count": null,
   "id": "e4619aba",
   "metadata": {},
   "outputs": [],
   "source": [
    "pyplot.spy(m[:100, :100], precision=0.01)"
   ]
  },
  {
   "cell_type": "code",
   "execution_count": null,
   "id": "b246396b",
   "metadata": {},
   "outputs": [],
   "source": [
    "testmat = m[:10000, :10000].todense()"
   ]
  },
  {
   "cell_type": "code",
   "execution_count": null,
   "id": "61bd7f91",
   "metadata": {},
   "outputs": [],
   "source": [
    "sym = np.maximum(testmat, testmat.transpose())"
   ]
  },
  {
   "cell_type": "code",
   "execution_count": null,
   "id": "794ce4c9",
   "metadata": {},
   "outputs": [],
   "source": [
    "sym = sym + 0"
   ]
  },
  {
   "cell_type": "code",
   "execution_count": null,
   "id": "6a67d4b9",
   "metadata": {
    "scrolled": true
   },
   "outputs": [],
   "source": [
    "pyplot.spy(sym, precision=0.1)"
   ]
  },
  {
   "cell_type": "code",
   "execution_count": null,
   "id": "0e1aab1f",
   "metadata": {
    "scrolled": true
   },
   "outputs": [],
   "source": [
    "pyplot.spy(sym, precision=0.01)"
   ]
  },
  {
   "cell_type": "code",
   "execution_count": null,
   "id": "87737f4c",
   "metadata": {},
   "outputs": [],
   "source": [
    "testmat.max()"
   ]
  },
  {
   "cell_type": "code",
   "execution_count": null,
   "id": "accd9ff4",
   "metadata": {
    "scrolled": true
   },
   "outputs": [],
   "source": [
    "pyplot.spy(sym, precision=0.25)"
   ]
  },
  {
   "cell_type": "code",
   "execution_count": null,
   "id": "f849ea88",
   "metadata": {},
   "outputs": [],
   "source": [
    "testmat.min()"
   ]
  },
  {
   "cell_type": "code",
   "execution_count": null,
   "id": "293dbe11",
   "metadata": {},
   "outputs": [],
   "source": [
    "sym.min()"
   ]
  },
  {
   "cell_type": "code",
   "execution_count": null,
   "id": "31d48ecb",
   "metadata": {},
   "outputs": [],
   "source": [
    "testmat.min()"
   ]
  },
  {
   "cell_type": "code",
   "execution_count": null,
   "id": "236fccaa",
   "metadata": {},
   "outputs": [],
   "source": [
    "pyplot.hist(testmat)"
   ]
  },
  {
   "cell_type": "code",
   "execution_count": null,
   "id": "d78555ed",
   "metadata": {},
   "outputs": [],
   "source": [
    "def spy_submat(sparse_mat, start_ind, end_ind, prec):\n",
    "    dense_mat = sparse_mat[start_ind:end_ind, start_ind:end_ind].todense()\n",
    "    dense_mat = np.maximum(dense_mat, dense_mat.transpose())\n",
    "    pyplot.spy(dense_mat, precision=prec)\n",
    "    pyplot.show()"
   ]
  },
  {
   "cell_type": "code",
   "execution_count": null,
   "id": "7b20dc6c",
   "metadata": {},
   "outputs": [],
   "source": [
    "spy_submat(m, 0, 10000, .1)"
   ]
  },
  {
   "cell_type": "code",
   "execution_count": null,
   "id": "4f6354ee",
   "metadata": {},
   "outputs": [],
   "source": [
    "def spy_all(sparse_mat, interval, prec):\n",
    "    intervals = [min(i * interval, m.shape[0]) for i in range((m.shape[0] // interval) + 2)]\n",
    "    \n",
    "    for i in range(len(intervals)-1):\n",
    "        spy_submat(sparse_mat, intervals[i], intervals[i+1], prec)"
   ]
  },
  {
   "cell_type": "code",
   "execution_count": null,
   "id": "bdbec1aa",
   "metadata": {},
   "outputs": [],
   "source": [
    "spy_all(m, 10000, .1)"
   ]
  },
  {
   "cell_type": "code",
   "execution_count": null,
   "id": "b0b0d4b0",
   "metadata": {},
   "outputs": [],
   "source": [
    "spy_all(m, 10000, .01)"
   ]
  },
  {
   "cell_type": "code",
   "execution_count": null,
   "id": "d850de75",
   "metadata": {},
   "outputs": [],
   "source": [
    "spy_all(m, 18000, .01)"
   ]
  },
  {
   "cell_type": "code",
   "execution_count": null,
   "id": "691f219d",
   "metadata": {},
   "outputs": [],
   "source": [
    "spy_all(m, 1000, .1)"
   ]
  },
  {
   "cell_type": "code",
   "execution_count": null,
   "id": "5e08257e",
   "metadata": {},
   "outputs": [],
   "source": [
    "m.count_nonzero()"
   ]
  },
  {
   "cell_type": "code",
   "execution_count": null,
   "id": "a6e8e5bc",
   "metadata": {},
   "outputs": [],
   "source": [
    "spy_all(m, 500, .1)"
   ]
  },
  {
   "cell_type": "code",
   "execution_count": 2,
   "id": "4f91cfba",
   "metadata": {},
   "outputs": [],
   "source": [
    "sp_mat = sp.load_npz('chr16_82000001_85000001.npz')"
   ]
  },
  {
   "cell_type": "code",
   "execution_count": 3,
   "id": "b8deb669",
   "metadata": {},
   "outputs": [],
   "source": [
    "m = sp.tril(sp_mat)\n",
    "csr = m.tocsr()\n"
   ]
  },
  {
   "cell_type": "code",
   "execution_count": 4,
   "id": "6348f902",
   "metadata": {},
   "outputs": [],
   "source": [
    "nonzero = csr.nonzero()"
   ]
  },
  {
   "cell_type": "code",
   "execution_count": 5,
   "id": "fc958f09",
   "metadata": {},
   "outputs": [],
   "source": [
    "nonzero_mask = np.array(np.abs(csr[nonzero])< .1)[0]"
   ]
  },
  {
   "cell_type": "code",
   "execution_count": 6,
   "id": "38e2719a",
   "metadata": {},
   "outputs": [],
   "source": [
    "rows = nonzero[0][nonzero_mask]\n",
    "cols = nonzero[1][nonzero_mask]"
   ]
  },
  {
   "cell_type": "code",
   "execution_count": 7,
   "id": "cd47fc03",
   "metadata": {},
   "outputs": [],
   "source": [
    "csr[rows,cols] = 0\n",
    "csr.eliminate_zeros()"
   ]
  },
  {
   "cell_type": "code",
   "execution_count": 8,
   "id": "c9d8adea",
   "metadata": {},
   "outputs": [
    {
     "data": {
      "text/plain": [
       "29697324"
      ]
     },
     "execution_count": 8,
     "metadata": {},
     "output_type": "execute_result"
    }
   ],
   "source": [
    "csr.data.nbytes"
   ]
  },
  {
   "cell_type": "code",
   "execution_count": 9,
   "id": "a7cd7407",
   "metadata": {},
   "outputs": [],
   "source": [
    "bsr = csr.tobsr()"
   ]
  },
  {
   "cell_type": "code",
   "execution_count": 11,
   "id": "3b847ef3",
   "metadata": {},
   "outputs": [
    {
     "data": {
      "text/plain": [
       "29697324"
      ]
     },
     "execution_count": 11,
     "metadata": {},
     "output_type": "execute_result"
    }
   ],
   "source": [
    "bsr.data.nbytes"
   ]
  },
  {
   "cell_type": "code",
   "execution_count": 12,
   "id": "9d11cb78",
   "metadata": {},
   "outputs": [
    {
     "data": {
      "text/plain": [
       "(1, 1)"
      ]
     },
     "execution_count": 12,
     "metadata": {},
     "output_type": "execute_result"
    }
   ],
   "source": [
    "bsr.blocksize"
   ]
  },
  {
   "cell_type": "code",
   "execution_count": 24,
   "id": "4781d8fa",
   "metadata": {},
   "outputs": [
    {
     "data": {
      "text/plain": [
       "<matplotlib.image.AxesImage at 0x12133d0d0>"
      ]
     },
     "execution_count": 24,
     "metadata": {},
     "output_type": "execute_result"
    },
    {
     "data": {
      "image/png": "[encoded data removed]",
      "text/plain": [
       "<Figure size 432x288 with 1 Axes>"
      ]
     },
     "metadata": {
      "needs_background": "light"
     },
     "output_type": "display_data"
    }
   ],
   "source": [
    "pyplot.spy(csr[:10000, :10000].todense())"
   ]
  },
  {
   "cell_type": "code",
   "execution_count": 26,
   "id": "2ff9a46c",
   "metadata": {},
   "outputs": [],
   "source": [
    "subcsr = csr[:34000, :34000]"
   ]
  },
  {
   "cell_type": "code",
   "execution_count": 27,
   "id": "d3e6b016",
   "metadata": {},
   "outputs": [],
   "source": [
    "subbsr = subcsr.tobsr(blocksize=(2000,2000))"
   ]
  },
  {
   "cell_type": "code",
   "execution_count": 28,
   "id": "d48b41c0",
   "metadata": {},
   "outputs": [
    {
     "data": {
      "text/plain": [
       "2448000000"
      ]
     },
     "execution_count": 28,
     "metadata": {},
     "output_type": "execute_result"
    }
   ],
   "source": [
    "subbsr.data.nbytes"
   ]
  },
  {
   "cell_type": "code",
   "execution_count": 29,
   "id": "50d4e9f9",
   "metadata": {},
   "outputs": [
    {
     "data": {
      "text/plain": [
       "<34000x34000 sparse matrix of type '<class 'numpy.float32'>'\n",
       "\twith 612000000 stored elements (blocksize = 2000x2000) in Block Sparse Row format>"
      ]
     },
     "execution_count": 29,
     "metadata": {},
     "output_type": "execute_result"
    }
   ],
   "source": [
    "subbsr"
   ]
  },
  {
   "cell_type": "code",
   "execution_count": 32,
   "id": "fc4f3117",
   "metadata": {},
   "outputs": [
    {
     "data": {
      "text/plain": [
       "153.0"
      ]
     },
     "execution_count": 32,
     "metadata": {},
     "output_type": "execute_result"
    }
   ],
   "source": [
    "612000000/(2000*2000)"
   ]
  },
  {
   "cell_type": "code",
   "execution_count": 38,
   "id": "52ea4c88",
   "metadata": {},
   "outputs": [],
   "source": [
    "subbsr = subcsr.tobsr(blocksize=(1000,1000))"
   ]
  },
  {
   "cell_type": "code",
   "execution_count": 42,
   "id": "c5cc89ef",
   "metadata": {},
   "outputs": [
    {
     "data": {
      "text/plain": [
       "<34000x34000 sparse matrix of type '<class 'numpy.float32'>'\n",
       "\twith 7185440 stored elements (blocksize = 1x1) in Block Sparse Row format>"
      ]
     },
     "execution_count": 42,
     "metadata": {},
     "output_type": "execute_result"
    }
   ],
   "source": [
    "subcsr.tobsr(blocksize=(1,1))"
   ]
  },
  {
   "cell_type": "code",
   "execution_count": 43,
   "id": "bc1fb9e4",
   "metadata": {},
   "outputs": [
    {
     "data": {
      "text/plain": [
       "<34000x34000 sparse matrix of type '<class 'numpy.float32'>'\n",
       "\twith 82377900 stored elements (blocksize = 10x10) in Block Sparse Row format>"
      ]
     },
     "execution_count": 43,
     "metadata": {},
     "output_type": "execute_result"
    }
   ],
   "source": [
    "subcsr.tobsr(blocksize=(10,10))"
   ]
  },
  {
   "cell_type": "code",
   "execution_count": 50,
   "id": "0b66febf",
   "metadata": {},
   "outputs": [],
   "source": [
    "smallcsr = csr[:2000, :2000]"
   ]
  },
  {
   "cell_type": "code",
   "execution_count": 51,
   "id": "07c2fc02",
   "metadata": {},
   "outputs": [
    {
     "data": {
      "text/plain": [
       "<2000x2000 sparse matrix of type '<class 'numpy.float32'>'\n",
       "\twith 238630 stored elements in Compressed Sparse Row format>"
      ]
     },
     "execution_count": 51,
     "metadata": {},
     "output_type": "execute_result"
    }
   ],
   "source": [
    "smallcsr"
   ]
  },
  {
   "cell_type": "code",
   "execution_count": 52,
   "id": "72375a3b",
   "metadata": {},
   "outputs": [
    {
     "data": {
      "text/plain": [
       "<2000x2000 sparse matrix of type '<class 'numpy.float32'>'\n",
       "\twith 2100000 stored elements (blocksize = 100x100) in Block Sparse Row format>"
      ]
     },
     "execution_count": 52,
     "metadata": {},
     "output_type": "execute_result"
    }
   ],
   "source": [
    "smallcsr.tobsr(blocksize=(100,100))"
   ]
  },
  {
   "cell_type": "code",
   "execution_count": 54,
   "id": "cbe8a82f",
   "metadata": {},
   "outputs": [
    {
     "data": {
      "text/plain": [
       "954520"
      ]
     },
     "execution_count": 54,
     "metadata": {},
     "output_type": "execute_result"
    }
   ],
   "source": [
    "smallcsr.tocoo().data.nbytes"
   ]
  },
  {
   "cell_type": "code",
   "execution_count": 55,
   "id": "ae104706",
   "metadata": {},
   "outputs": [
    {
     "data": {
      "text/plain": [
       "954520"
      ]
     },
     "execution_count": 55,
     "metadata": {},
     "output_type": "execute_result"
    }
   ],
   "source": [
    "smallcsr.data.nbytes"
   ]
  },
  {
   "cell_type": "code",
   "execution_count": 57,
   "id": "0eefd777",
   "metadata": {},
   "outputs": [
    {
     "data": {
      "text/plain": [
       "954520"
      ]
     },
     "execution_count": 57,
     "metadata": {},
     "output_type": "execute_result"
    }
   ],
   "source": [
    "smallcsr.tocsc().data.nbytes"
   ]
  },
  {
   "cell_type": "code",
   "execution_count": 63,
   "id": "ddf8e0a2",
   "metadata": {},
   "outputs": [
    {
     "data": {
      "text/plain": [
       "<2000x2000 sparse matrix of type '<class 'numpy.float32'>'\n",
       "\twith 238630 stored elements in List of Lists format>"
      ]
     },
     "execution_count": 63,
     "metadata": {},
     "output_type": "execute_result"
    }
   ],
   "source": [
    "smallcsr.tolil()"
   ]
  },
  {
   "cell_type": "code",
   "execution_count": 64,
   "id": "6e0570d9",
   "metadata": {},
   "outputs": [
    {
     "data": {
      "text/plain": [
       "<2000x2000 sparse matrix of type '<class 'numpy.float32'>'\n",
       "\twith 238630 stored elements in Compressed Sparse Row format>"
      ]
     },
     "execution_count": 64,
     "metadata": {},
     "output_type": "execute_result"
    }
   ],
   "source": [
    "smallcsr"
   ]
  },
  {
   "cell_type": "code",
   "execution_count": 65,
   "id": "41ac8222",
   "metadata": {},
   "outputs": [
    {
     "data": {
      "text/plain": [
       "16.76235175795164"
      ]
     },
     "execution_count": 65,
     "metadata": {},
     "output_type": "execute_result"
    }
   ],
   "source": [
    "smallcsr.todense().data.nbytes / smallcsr.data.nbytes"
   ]
  },
  {
   "cell_type": "code",
   "execution_count": 69,
   "id": "a0fcb149",
   "metadata": {},
   "outputs": [],
   "source": [
    "smallcsr = m.tocsr()[:2000, :2000]"
   ]
  },
  {
   "cell_type": "code",
   "execution_count": 70,
   "id": "e438ad3f",
   "metadata": {},
   "outputs": [
    {
     "data": {
      "text/plain": [
       "<2000x2000 sparse matrix of type '<class 'numpy.float32'>'\n",
       "\twith 2001000 stored elements in Compressed Sparse Row format>"
      ]
     },
     "execution_count": 70,
     "metadata": {},
     "output_type": "execute_result"
    }
   ],
   "source": [
    "smallcsr"
   ]
  },
  {
   "cell_type": "code",
   "execution_count": 71,
   "id": "025c4c4b",
   "metadata": {},
   "outputs": [
    {
     "data": {
      "text/plain": [
       "1.999000499750125"
      ]
     },
     "execution_count": 71,
     "metadata": {},
     "output_type": "execute_result"
    }
   ],
   "source": [
    "smallcsr.todense().data.nbytes / smallcsr.data.nbytes"
   ]
  },
  {
   "cell_type": "code",
   "execution_count": 76,
   "id": "b12a42d7",
   "metadata": {},
   "outputs": [
    {
     "data": {
      "text/plain": [
       "<matplotlib.image.AxesImage at 0x137d30700>"
      ]
     },
     "execution_count": 76,
     "metadata": {},
     "output_type": "execute_result"
    },
    {
     "data": {
      "image/png": "[encoded data removed]",
      "text/plain": [
       "<Figure size 432x288 with 1 Axes>"
      ]
     },
     "metadata": {
      "needs_background": "light"
     },
     "output_type": "display_data"
    }
   ],
   "source": [
    "pyplot.spy(smallcsr.todense(), precision=.0001)"
   ]
  },
  {
   "cell_type": "code",
   "execution_count": 79,
   "id": "92058d71",
   "metadata": {},
   "outputs": [
    {
     "data": {
      "text/plain": [
       "8004000"
      ]
     },
     "execution_count": 79,
     "metadata": {},
     "output_type": "execute_result"
    }
   ],
   "source": [
    "smallcsr.data.nbytes"
   ]
  },
  {
   "cell_type": "code",
   "execution_count": 80,
   "id": "409ecfa5",
   "metadata": {},
   "outputs": [
    {
     "data": {
      "text/plain": [
       "8004000"
      ]
     },
     "execution_count": 80,
     "metadata": {},
     "output_type": "execute_result"
    }
   ],
   "source": [
    "smallcsr.tocoo().data.nbytes"
   ]
  },
  {
   "cell_type": "code",
   "execution_count": 81,
   "id": "d59a524e",
   "metadata": {},
   "outputs": [],
   "source": [
    "sp.save_npz('csr', smallcsr, compressed=False)"
   ]
  },
  {
   "cell_type": "code",
   "execution_count": 86,
   "id": "d6637875",
   "metadata": {},
   "outputs": [],
   "source": [
    "sp.save_npz('csrc', smallcsr, compressed=True)"
   ]
  },
  {
   "cell_type": "code",
   "execution_count": 82,
   "id": "7d668e7c",
   "metadata": {},
   "outputs": [],
   "source": [
    "sp.save_npz('coo', smallcsr.tocoo(), compressed=False)"
   ]
  },
  {
   "cell_type": "code",
   "execution_count": 85,
   "id": "6bf42385",
   "metadata": {},
   "outputs": [],
   "source": [
    "sp.save_npz('cooc', smallcsr.tocoo(), compressed=True)"
   ]
  },
  {
   "cell_type": "code",
   "execution_count": 88,
   "id": "abc281be",
   "metadata": {},
   "outputs": [
    {
     "data": {
      "text/plain": [
       "<1900x100 sparse matrix of type '<class 'numpy.float32'>'\n",
       "\twith 190000 stored elements in Compressed Sparse Row format>"
      ]
     },
     "execution_count": 88,
     "metadata": {},
     "output_type": "execute_result"
    }
   ],
   "source": [
    "smallcsr[100:, :100]"
   ]
  },
  {
   "cell_type": "code",
   "execution_count": 7,
   "id": "121e18a6",
   "metadata": {},
   "outputs": [
    {
     "ename": "TypeError",
     "evalue": "'coo_matrix' object is not subscriptable",
     "output_type": "error",
     "traceback": [
      "\u001b[0;31m---------------------------------------------------------------------------\u001b[0m",
      "\u001b[0;31mTypeError\u001b[0m                                 Traceback (most recent call last)",
      "\u001b[0;32m/var/folders/dx/2gt9564n2mn92wk25_rrrns80000gn/T/ipykernel_4833/2317514083.py\u001b[0m in \u001b[0;36m<module>\u001b[0;34m\u001b[0m\n\u001b[0;32m----> 1\u001b[0;31m \u001b[0msp_mat\u001b[0m\u001b[0;34m[\u001b[0m\u001b[0;36m0\u001b[0m\u001b[0;34m]\u001b[0m\u001b[0;34m\u001b[0m\u001b[0;34m\u001b[0m\u001b[0m\n\u001b[0m",
      "\u001b[0;31mTypeError\u001b[0m: 'coo_matrix' object is not subscriptable"
     ]
    }
   ],
   "source": [
    "sp_mat"
   ]
  },
  {
   "cell_type": "code",
   "execution_count": 9,
   "id": "7b5983ba",
   "metadata": {},
   "outputs": [],
   "source": [
    "df = pd.read_csv('chr16_82000001_85000001', delimiter='\\t')"
   ]
  },
  {
   "cell_type": "code",
   "execution_count": 10,
   "id": "b470ba30",
   "metadata": {},
   "outputs": [
    {
     "data": {
      "text/plain": [
       "<AxesSubplot:>"
      ]
     },
     "execution_count": 10,
     "metadata": {},
     "output_type": "execute_result"
    },
    {
     "data": {
      "image/png": "[encoded data removed]",
      "text/plain": [
       "<Figure size 432x288 with 1 Axes>"
      ]
     },
     "metadata": {
      "needs_background": "light"
     },
     "output_type": "display_data"
    }
   ],
   "source": [
    "df.position.plot()"
   ]
  },
  {
   "cell_type": "code",
   "execution_count": null,
   "id": "2b00f8bd",
   "metadata": {},
   "outputs": [],
   "source": []
  }
 ],
 "metadata": {
  "kernelspec": {
   "display_name": "ld-venv",
   "language": "python",
   "name": "ld-venv"
  },
  "language_info": {
   "codemirror_mode": {
    "name": "ipython",
    "version": 3
   },
   "file_extension": ".py",
   "mimetype": "text/x-python",
   "name": "python",
   "nbconvert_exporter": "python",
   "pygments_lexer": "ipython3",
   "version": "3.9.12"
  }
 },
 "nbformat": 4,
 "nbformat_minor": 5
}
