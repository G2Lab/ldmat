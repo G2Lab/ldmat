{
 "cells": [
  {
   "cell_type": "code",
   "execution_count": null,
   "id": "26885f4a",
   "metadata": {},
   "outputs": [],
   "source": [
    "sizes = {(0.001, 3): 3572, (0.01, 3): 1295, (0.1, 5): 289, (0.1, 4): 242, (0.1, 3): 190, (0.1, 1): 132, (0.1, 2): 114}"
   ]
  },
  {
   "cell_type": "code",
   "execution_count": null,
   "id": "e5adc0d9",
   "metadata": {},
   "outputs": [],
   "source": [
    "fixed_precision = {decimals: mb for (precision, decimals), mb in sizes.items() if precision == 0.1}"
   ]
  },
  {
   "cell_type": "code",
   "execution_count": null,
   "id": "9da0c76b",
   "metadata": {},
   "outputs": [],
   "source": [
    "fixed_precision"
   ]
  },
  {
   "cell_type": "code",
   "execution_count": null,
   "id": "99828515",
   "metadata": {},
   "outputs": [],
   "source": [
    "fixed_decimals = {precision: mb for (precision, decimals), mb in sizes.items() if decimals == 3}"
   ]
  },
  {
   "cell_type": "code",
   "execution_count": null,
   "id": "74e55f9a",
   "metadata": {},
   "outputs": [],
   "source": [
    "fixed_decimals"
   ]
  },
  {
   "cell_type": "code",
   "execution_count": null,
   "id": "5925f45a",
   "metadata": {},
   "outputs": [],
   "source": [
    "import matplotlib.pyplot as plt\n",
    "import numpy as np"
   ]
  },
  {
   "cell_type": "code",
   "execution_count": null,
   "id": "291a77ac",
   "metadata": {},
   "outputs": [],
   "source": [
    "%matplotlib inline"
   ]
  },
  {
   "cell_type": "code",
   "execution_count": null,
   "id": "400ca025",
   "metadata": {},
   "outputs": [],
   "source": [
    "plt.scatter(fixed_decimals.keys(), fixed_decimals.values())\n",
    "plt.xlabel('Minimum LD Score Kept')\n",
    "plt.ylabel('MB')\n",
    "plt.title('3 Decimals')\n",
    "# plt.show()\n",
    "plt.savefig('fixed_decimals.png', dpi=1000)"
   ]
  },
  {
   "cell_type": "code",
   "execution_count": null,
   "id": "3e0c7e3e",
   "metadata": {},
   "outputs": [],
   "source": [
    "plt.scatter(fixed_precision.keys(), fixed_precision.values())\n",
    "plt.xlabel('Decimals')\n",
    "plt.ylabel('MB')\n",
    "plt.title('0.1 Minimum LD Score Kept')\n",
    "# plt.show()\n",
    "plt.savefig('fixed_precision.png', dpi=1000)"
   ]
  },
  {
   "cell_type": "code",
   "execution_count": null,
   "id": "81b158f6",
   "metadata": {},
   "outputs": [],
   "source": [
    "plt.scatter([a for a, _ in sizes.keys()], [a for _, a in sizes.keys()], s=np.array(list(sizes.values())) / 4)\n",
    "plt.ylabel('Decimals')\n",
    "plt.xlabel('Minimum LD Score Kept')\n",
    "for (x,y), v in sizes.items():\n",
    "    plt.annotate(v, (x,y), (x-.004, y+.4))\n",
    "plt.show()"
   ]
  },
  {
   "cell_type": "code",
   "execution_count": null,
   "id": "67a02fca",
   "metadata": {},
   "outputs": [],
   "source": [
    "lossless = {21: 18560, 2: 104785, 20: 27320, 22: 18912}"
   ]
  },
  {
   "cell_type": "code",
   "execution_count": null,
   "id": "e4365fb1",
   "metadata": {},
   "outputs": [],
   "source": [
    "plt.scatter(lossless.keys(), np.array(list(lossless.values()))/1000)\n",
    "plt.xlabel('Chromosome')\n",
    "plt.xlim(0, 23)\n",
    "plt.ylabel('GB')\n",
    "\n",
    "plt.show()"
   ]
  },
  {
   "cell_type": "code",
   "execution_count": null,
   "id": "42a125f3",
   "metadata": {},
   "outputs": [],
   "source": []
  }
 ],
 "metadata": {
  "kernelspec": {
   "display_name": "ld-venv",
   "language": "python",
   "name": "ld-venv"
  },
  "language_info": {
   "codemirror_mode": {
    "name": "ipython",
    "version": 3
   },
   "file_extension": ".py",
   "mimetype": "text/x-python",
   "name": "python",
   "nbconvert_exporter": "python",
   "pygments_lexer": "ipython3",
   "version": "3.9.12"
  }
 },
 "nbformat": 4,
 "nbformat_minor": 5
}
