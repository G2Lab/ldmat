{
 "cells": [
  {
   "cell_type": "code",
   "execution_count": null,
   "id": "5f5fd800",
   "metadata": {},
   "outputs": [],
   "source": [
    "npz_size = 45185"
   ]
  },
  {
   "cell_type": "code",
   "execution_count": null,
   "id": "26885f4a",
   "metadata": {},
   "outputs": [],
   "source": [
    "sizes = {(0.001, 3): 3572, (0.01, 3): 1295, (0.1, 5): 289, (0.1, 4): 242, (0.1, 3): 190, (0.1, 1): 132, (0.1, 2): 114}"
   ]
  },
  {
   "cell_type": "code",
   "execution_count": null,
   "id": "e5adc0d9",
   "metadata": {},
   "outputs": [],
   "source": [
    "fixed_precision = {decimals: mb for (precision, decimals), mb in sizes.items() if precision == 0.1}"
   ]
  },
  {
   "cell_type": "code",
   "execution_count": null,
   "id": "9da0c76b",
   "metadata": {},
   "outputs": [],
   "source": [
    "fixed_precision"
   ]
  },
  {
   "cell_type": "code",
   "execution_count": null,
   "id": "99828515",
   "metadata": {},
   "outputs": [],
   "source": [
    "fixed_decimals = {precision: mb for (precision, decimals), mb in sizes.items() if decimals == 3}"
   ]
  },
  {
   "cell_type": "code",
   "execution_count": null,
   "id": "74e55f9a",
   "metadata": {},
   "outputs": [],
   "source": [
    "fixed_decimals"
   ]
  },
  {
   "cell_type": "code",
   "execution_count": null,
   "id": "5925f45a",
   "metadata": {},
   "outputs": [],
   "source": [
    "import matplotlib.pyplot as plt\n",
    "import numpy as np\n",
    "from matplotlib.colors import LogNorm"
   ]
  },
  {
   "cell_type": "code",
   "execution_count": null,
   "id": "291a77ac",
   "metadata": {},
   "outputs": [],
   "source": [
    "%matplotlib inline"
   ]
  },
  {
   "cell_type": "code",
   "execution_count": null,
   "id": "400ca025",
   "metadata": {},
   "outputs": [],
   "source": [
    "plt.scatter(fixed_decimals.keys(), fixed_decimals.values())\n",
    "plt.xlabel('Minimum LD Score Kept')\n",
    "plt.ylabel('MB')\n",
    "plt.title('3 Decimals')\n",
    "# plt.show()\n",
    "plt.savefig('fixed_decimals.png', dpi=1000)"
   ]
  },
  {
   "cell_type": "code",
   "execution_count": null,
   "id": "3e0c7e3e",
   "metadata": {},
   "outputs": [],
   "source": [
    "plt.scatter(fixed_precision.keys(), fixed_precision.values())\n",
    "plt.xlabel('Decimals')\n",
    "plt.ylabel('MB')\n",
    "plt.title('0.1 Minimum LD Score Kept')\n",
    "# plt.show()\n",
    "plt.savefig('fixed_precision.png', dpi=1000)"
   ]
  },
  {
   "cell_type": "code",
   "execution_count": null,
   "id": "81b158f6",
   "metadata": {},
   "outputs": [],
   "source": [
    "plt.scatter([a for a, _ in sizes.keys()], [a for _, a in sizes.keys()], s=np.array(list(sizes.values())) / 4)\n",
    "plt.ylabel('Decimals')\n",
    "plt.xlabel('Minimum LD Score Kept')\n",
    "for (x,y), v in sizes.items():\n",
    "    plt.annotate(v, (x,y), (x-.004, y+.4))\n",
    "plt.show()"
   ]
  },
  {
   "cell_type": "code",
   "execution_count": null,
   "id": "67a02fca",
   "metadata": {},
   "outputs": [],
   "source": [
    "lossless = {21: 18560, 2: 104785, 20: 27320, 22: 18912}"
   ]
  },
  {
   "cell_type": "code",
   "execution_count": null,
   "id": "e4365fb1",
   "metadata": {},
   "outputs": [],
   "source": [
    "plt.scatter(lossless.keys(), np.array(list(lossless.values()))/1000)\n",
    "plt.xlabel('Chromosome')\n",
    "plt.xlim(0, 23)\n",
    "plt.ylabel('GB')\n",
    "\n",
    "plt.show()"
   ]
  },
  {
   "cell_type": "code",
   "execution_count": null,
   "id": "42a125f3",
   "metadata": {},
   "outputs": [],
   "source": []
  },
  {
   "cell_type": "code",
   "execution_count": null,
   "id": "a4951a2a",
   "metadata": {},
   "outputs": [],
   "source": []
  },
  {
   "cell_type": "code",
   "execution_count": null,
   "id": "072f6b9b",
   "metadata": {},
   "outputs": [],
   "source": [
    "import pandas as pd"
   ]
  },
  {
   "cell_type": "code",
   "execution_count": null,
   "id": "2f856d81",
   "metadata": {},
   "outputs": [],
   "source": [
    "df = pd.read_csv('../data/hyperparameters.csv', delim_whitespace=True, skiprows=1, header=None)[[4, 8]]\n",
    "df.columns = ['MBs', 'name']"
   ]
  },
  {
   "cell_type": "code",
   "execution_count": null,
   "id": "293aea4e",
   "metadata": {},
   "outputs": [],
   "source": [
    "df['decimals'] = df.name.str.split('d').str[1].str[:1].astype(float)"
   ]
  },
  {
   "cell_type": "code",
   "execution_count": null,
   "id": "5238bb3d",
   "metadata": {},
   "outputs": [],
   "source": [
    "df['precision'] = df.name.str.split('p').str[1].str.split('d').str[0].str.replace(\".h5\", \"\").str.replace('_', '.').astype(float)"
   ]
  },
  {
   "cell_type": "code",
   "execution_count": null,
   "id": "580a4bac",
   "metadata": {},
   "outputs": [],
   "source": [
    "df['MBs'] = df['MBs'].str.rstrip('MB').astype(int)"
   ]
  },
  {
   "cell_type": "code",
   "execution_count": null,
   "id": "35822749",
   "metadata": {},
   "outputs": [],
   "source": [
    "df = df[['decimals', 'precision', 'MBs']]"
   ]
  },
  {
   "cell_type": "code",
   "execution_count": null,
   "id": "d997c13f",
   "metadata": {},
   "outputs": [],
   "source": [
    "plt.scatter(df.precision, df.decimals, df['MBs'])\n",
    "plt.ylabel('Decimals')\n",
    "plt.xlabel('Minimum LD Score Kept')\n",
    "plt.xscale(\"log\")\n",
    "# for (x,y), v in sizes.items():\n",
    "#     plt.annotate(v, (x,y), (x-.004, y+.4))\n",
    "plt.show()"
   ]
  },
  {
   "cell_type": "code",
   "execution_count": null,
   "id": "b9a04b4c",
   "metadata": {},
   "outputs": [],
   "source": [
    "three = df[df.decimals == 3]\n",
    "# three = three[three.precision < .5]\n",
    "\n",
    "plt.scatter(three.precision, three['MBs'])\n",
    "plt.xlabel('Minimum LD Score Kept')\n",
    "plt.ylabel('MB')\n",
    "plt.title('3 Decimals')\n",
    "# plt.show()\n",
    "plt.savefig('fixed_decimals.png', dpi=1000)"
   ]
  },
  {
   "cell_type": "code",
   "execution_count": null,
   "id": "6be89ed4",
   "metadata": {},
   "outputs": [],
   "source": [
    "df.sort_values('MBs', ascending=False)"
   ]
  },
  {
   "cell_type": "code",
   "execution_count": null,
   "id": "a88761ab",
   "metadata": {},
   "outputs": [],
   "source": [
    "df.MBs = np.round(100 * df.MBs / npz_size, 2)"
   ]
  },
  {
   "cell_type": "code",
   "execution_count": null,
   "id": "dc356d75",
   "metadata": {},
   "outputs": [],
   "source": [
    "import seaborn as sns"
   ]
  },
  {
   "cell_type": "code",
   "execution_count": null,
   "id": "39ba8235",
   "metadata": {},
   "outputs": [],
   "source": [
    "sns.set_theme('paper')"
   ]
  },
  {
   "cell_type": "code",
   "execution_count": null,
   "id": "e8f2bcb6",
   "metadata": {},
   "outputs": [],
   "source": [
    "ax = sns.scatterplot(data=df.dropna(), x='precision', y='decimals', size=\"MBs\", hue=\"MBs\", palette=sns.color_palette('crest', as_cmap=True),\n",
    "                sizes=(50,250)\n",
    "\n",
    ")\n",
    "\n",
    "ax.legend(loc='center left', bbox_to_anchor=(1, 0.5), borderpad=2, labelspacing=2, title=\"Size in MB\")\n",
    "plt.ylabel('Decimals')\n",
    "plt.yticks(range(0,6))\n",
    "plt.xlabel('Minimum LD Score Kept')\n",
    "plt.xscale(\"log\")\n",
    "plt.tight_layout()\n",
    "# plt.savefig('/tmp/hyper.png', dpi=1000)\n",
    "plt.show()\n",
    "\n",
    "# maybe I can just add to this and then add lines/overwrite labels"
   ]
  },
  {
   "cell_type": "code",
   "execution_count": null,
   "id": "6c2eebcb",
   "metadata": {},
   "outputs": [],
   "source": [
    "#scratch\n",
    "\n",
    "ax = sns.scatterplot(data=df, x='precision', y='decimals', size=\"MBs\", hue=\"MBs\", palette=sns.color_palette('crest', as_cmap=True),\n",
    "                sizes=(50,250)\n",
    "\n",
    ")\n",
    "\n",
    "ax.legend(loc='center left', bbox_to_anchor=(1, 0.5), borderpad=2, labelspacing=2, title=\"Size in MB\")\n",
    "plt.ylabel('Decimals')\n",
    "plt.yticks(range(0,6))\n",
    "plt.xlabel('Minimum LD Score Kept')\n",
    "plt.xscale(\"log\")\n",
    "plt.tight_layout()\n",
    "# plt.savefig('/tmp/hyper.png', dpi=1000)\n",
    "plt.show()"
   ]
  },
  {
   "cell_type": "code",
   "execution_count": null,
   "id": "c5514374",
   "metadata": {},
   "outputs": [],
   "source": [
    "# keep all LD\n",
    "full_ld = df.copy()\n",
    "full_ld.precision.fillna(0, inplace=True)\n",
    "# full_ld.dropna(inplace=True)\n",
    "ax = sns.scatterplot(data=full_ld, x='precision', y='decimals', size=\"MBs\", hue=\"MBs\", palette=sns.color_palette('crest', as_cmap=True),\n",
    "                sizes=(50,250)\n",
    "\n",
    ")\n",
    "\n",
    "ax.legend(loc='center left', bbox_to_anchor=(1, 0.5), borderpad=2, labelspacing=2, title=\"Size in MB\")\n",
    "plt.ylabel('Decimals')\n",
    "plt.yticks(range(0,6))\n",
    "plt.xticks([0], labels=[None])\n",
    "plt.xlim((-.0001, .0001))\n",
    "plt.xlabel('All LD Scores Kept')\n",
    "plt.tight_layout()\n",
    "# plt.savefig('/tmp/hyper.png', dpi=1000)\n",
    "plt.show()"
   ]
  },
  {
   "cell_type": "code",
   "execution_count": null,
   "id": "6854bb8f",
   "metadata": {
    "scrolled": true
   },
   "outputs": [],
   "source": [
    "# keep all decimals\n",
    "# full_decimals = df[df.decimals.isna()]\n",
    "# full_decimals.decimals = 0\n",
    "# full_decimals.dropna(inplace=True)\n",
    "full_decimals = df.copy()\n",
    "full_decimals.decimals.fillna(0, inplace=True)\n",
    "ax = sns.scatterplot(data=full_decimals, x='precision', y='decimals', size=\"MBs\", hue=\"MBs\", palette=sns.color_palette('crest', as_cmap=True),\n",
    "                sizes=(50,250)\n",
    "\n",
    ")\n",
    "\n",
    "ax.legend(loc='center left', bbox_to_anchor=(1, 0.5), borderpad=2, labelspacing=2, title=\"Size in MB\")\n",
    "plt.ylabel('Full Decimals Kept')\n",
    "plt.yticks([0], labels=[None])\n",
    "plt.ylim((-.5, .5))\n",
    "plt.xlabel('Minimum LD Score Kept')\n",
    "plt.xscale(\"log\")\n",
    "plt.tight_layout()\n",
    "# plt.savefig('/tmp/hyper.png', dpi=1000)\n",
    "plt.show()"
   ]
  },
  {
   "cell_type": "code",
   "execution_count": null,
   "id": "a6afcf69",
   "metadata": {
    "scrolled": true
   },
   "outputs": [],
   "source": [
    "lossless = df.fillna(0)\n",
    "ax = sns.scatterplot(data=lossless, x='precision', y='decimals', size=\"MBs\", hue=\"MBs\", palette=sns.color_palette('crest', as_cmap=True),\n",
    "                sizes=(50,250))\n",
    "\n",
    "\n",
    "ax.legend(loc='center left', bbox_to_anchor=(1, 0.5), borderpad=2, labelspacing=2, title=\"Size in MB\")\n",
    "\n",
    "plt.xticks([0], labels=[None])\n",
    "plt.xlim((-.0001, .0001))\n",
    "plt.xlabel('All LD Scores Kept')\n",
    "plt.ylabel('Full Decimals Kept')\n",
    "plt.yticks([0], labels=[None])\n",
    "plt.ylim((-.5, .5))\n",
    "plt.tight_layout()\n",
    "# plt.savefig('/tmp/hyper.png', dpi=1000)\n",
    "plt.show()"
   ]
  },
  {
   "cell_type": "code",
   "execution_count": null,
   "id": "da97a9ad",
   "metadata": {},
   "outputs": [],
   "source": [
    "lossless"
   ]
  },
  {
   "cell_type": "code",
   "execution_count": null,
   "id": "3c974449",
   "metadata": {
    "scrolled": false
   },
   "outputs": [],
   "source": [
    "fig, (ax1, ax2) = plt.subplots(2,2,sharex='all', sharey='all')\n",
    "\n",
    "ax = sns.scatterplot(data=df, x='precision', y='decimals', size=\"MBs\", hue=\"MBs\", palette=sns.color_palette('crest', as_cmap=True),\n",
    "                sizes=(50,250), ax=ax1[1]\n",
    "\n",
    ")\n",
    "\n",
    "ax.legend(loc='center left', bbox_to_anchor=(1, 0.5), borderpad=2, labelspacing=2, title=\"Size in MB\")\n",
    "plt.ylabel('Decimals')\n",
    "plt.yticks(range(0,6))\n",
    "plt.xlabel('Minimum LD Score Kept')\n",
    "plt.xscale(\"log\")\n",
    "plt.tight_layout()\n",
    "\n",
    "# full_ld = df.copy()\n",
    "# full_ld.precision.fillna(0, inplace=True)\n",
    "# # full_ld.dropna(inplace=True)\n",
    "# ax = sns.scatterplot(data=full_ld, x='precision', y='decimals', size=\"MBs\", hue=\"MBs\", palette=sns.color_palette('crest', as_cmap=True),\n",
    "#                 sizes=(50,250), ax=ax1[0]\n",
    "\n",
    "# )\n",
    "\n",
    "# ax.get_legend().remove()\n",
    "# # plt.ylabel('Decimals')\n",
    "# # plt.yticks(range(0,6))\n",
    "# # plt.xticks([0], labels=[None])\n",
    "# # plt.xlim((-.0001, .0001))\n",
    "# # plt.xlabel('All LD Scores Kept')\n",
    "# # plt.tight_layout()\n",
    "\n",
    "# full_decimals = df.copy()\n",
    "# full_decimals.decimals.fillna(0, inplace=True)\n",
    "# ax = sns.scatterplot(data=full_decimals, x='precision', y='decimals', size=\"MBs\", hue=\"MBs\", palette=sns.color_palette('crest', as_cmap=True),\n",
    "#                 sizes=(50,250), ax=ax2[1]\n",
    "\n",
    "# )\n",
    "\n",
    "# ax.get_legend().remove()\n",
    "\n",
    "# plt.ylabel('Full Decimals Kept')\n",
    "# plt.yticks([0], labels=[None])\n",
    "# plt.ylim((-.5, .5))\n",
    "# plt.xlabel('Minimum LD Score Kept')\n",
    "# plt.xscale(\"log\")\n",
    "\n",
    "# lossless = df.fillna(0)\n",
    "# ax=sns.scatterplot(data=lossless, x='precision', y='decimals', size=\"MBs\", hue=\"MBs\", palette=sns.color_palette('crest', as_cmap=True),\n",
    "#                 sizes=(50,250), ax=ax2[0])\n",
    "\n",
    "\n",
    "# ax.get_legend().remove()\n",
    "\n",
    "\n",
    "# plt.xticks([0], labels=[None])\n",
    "# plt.xlim((-.0001, .0001))\n",
    "# plt.xlabel('All LD Scores Kept')\n",
    "# plt.ylabel('Full Decimals Kept')\n",
    "# plt.yticks([0], labels=[None])\n",
    "# plt.ylim((-.5, .5))"
   ]
  },
  {
   "cell_type": "code",
   "execution_count": null,
   "id": "c7517c60",
   "metadata": {},
   "outputs": [],
   "source": [
    "# remove meaningless values\n",
    "df = df[df.precision.fillna(1e-4) >= 10**(-df.decimals.fillna(6))]"
   ]
  },
  {
   "cell_type": "code",
   "execution_count": null,
   "id": "1dd893ca",
   "metadata": {
    "scrolled": true
   },
   "outputs": [],
   "source": [
    "pivoted = df.fillna('Full')\n",
    "pivoted = pivoted.pivot(index='decimals', columns='precision', values='MBs')\n",
    "pivoted = pivoted[list(pivoted.columns[-1:]) + list(pivoted.columns[:-1])]\n",
    "pivoted = pivoted.iloc[::-1]\n",
    "pivoted"
   ]
  },
  {
   "cell_type": "code",
   "execution_count": null,
   "id": "62b0a38c",
   "metadata": {
    "scrolled": true
   },
   "outputs": [],
   "source": [
    "cmap = plt.get_cmap().copy()\n",
    "cmap.set_bad('white')\n",
    "\n",
    "sns.heatmap(pivoted, annot=True, yticklabels=['Full', 5,4,3,2,1], linewidths=1, cmap=cmap, norm=LogNorm())\n",
    "plt.xlabel('Minimum LD Score Kept')\n",
    "\n",
    "plt.ylabel('Decimals')\n",
    "plt.title('% of Original Size (Chromosome 21)')\n",
    "\n",
    "# plt.show()\n",
    "plt.savefig('../graphics/plots/full_heatmap.png', dpi=1000)\n"
   ]
  },
  {
   "cell_type": "code",
   "execution_count": null,
   "id": "d9d4c7be",
   "metadata": {
    "scrolled": true
   },
   "outputs": [],
   "source": [
    "sns.heatmap(pivoted.iloc[1:, 1:], annot=True, yticklabels=[5,4,3,2,1], linewidths=1, cmap=cmap, norm=LogNorm())\n",
    "plt.xlabel('Minimum LD Score Kept')\n",
    "\n",
    "plt.ylabel('Decimals')\n",
    "\n",
    "plt.title('% of Original Size (Chromosome 21)')\n",
    "\n",
    "\n",
    "# plt.show()\n",
    "plt.savefig('../graphics/plots/lossy_heatmap.png', dpi=1000)\n",
    "\n"
   ]
  },
  {
   "cell_type": "code",
   "execution_count": null,
   "id": "41ed1b1e",
   "metadata": {},
   "outputs": [],
   "source": [
    "df.decimals = df.decimals.fillna(6)\n",
    "df.precision = df.precision.fillna(10**(-3.5))\n",
    "\n",
    "ax = sns.scatterplot(data=df, x='precision', y='decimals', size=\"MBs\", hue=\"MBs\", palette=sns.color_palette('crest', as_cmap=True),\n",
    "                sizes=(50,250)\n",
    "\n",
    ")\n",
    "\n",
    "ax.legend(loc='center left', bbox_to_anchor=(1, 0.5), borderpad=2, labelspacing=2, title=\"% of Original Size\")\n",
    "plt.ylabel('Decimals')\n",
    "plt.yticks(range(1,7), labels=[1,2,3,4,5, 'Full'])\n",
    "plt.xlabel('Minimum LD Score Kept')\n",
    "plt.xscale(\"log\")\n",
    "plt.xticks([10**(-3.5), 1e-3, 1e-2, 1e-1], labels=['Full', 1e-3, 1e-2, 1e-1])\n",
    "\n",
    "plt.axhline(y=5.5, ls='--', lw=3, color='black')\n",
    "plt.axvline(x=10**(-3.25),  ls='--', lw=3, color='black')\n",
    "\n",
    "plt.tight_layout()\n",
    "plt.savefig('../graphics/plots/full.png', dpi=1000)\n",
    "\n",
    "lossless = df[(df.decimals == df.decimals.max()) & (df.precision == df.precision.min())].iloc[0]\n",
    "ax.annotate(lossless.MBs, (lossless.precision, lossless.decimals),\n",
    "            xytext=(lossless.precision, lossless.decimals + .3),\n",
    "            arrowprops={'arrowstyle': \"-\", 'color': 'black'})\n",
    "\n",
    "smallest = df[df.MBs == df.MBs.min()].iloc[0]\n",
    "\n",
    "ax.annotate(smallest.MBs, (smallest.precision, smallest.decimals),\n",
    "            xytext=(smallest.precision - .1, smallest.decimals + .3),\n",
    "            arrowprops={'arrowstyle': \"-\", 'color': 'black'})\n",
    "\n",
    "greater_than_one = df[df.MBs > 1]\n",
    "greater_than_one = greater_than_one[greater_than_one.MBs == greater_than_one.MBs.min()].iloc[0]\n",
    "ax.annotate(greater_than_one.MBs, (greater_than_one.precision, greater_than_one.decimals),\n",
    "            xytext=(greater_than_one.precision - .01, greater_than_one.decimals + .2))\n",
    "\n",
    "smaller_than_one = df[df.MBs < 1]\n",
    "smaller_than_one = smaller_than_one[smaller_than_one.MBs == smaller_than_one.MBs.max()].iloc[0]\n",
    "ax.annotate(smaller_than_one.MBs, (smaller_than_one.precision, smaller_than_one.decimals),\n",
    "            xytext=(smaller_than_one.precision - .01, smaller_than_one.decimals + .2))\n",
    "\n",
    "# plt.xticks([0, .001, .01, .1])\n",
    "plt.tight_layout()\n",
    "plt.savefig('../graphics/plots/full_annotated.png', dpi=1000)\n",
    "# plt.show()"
   ]
  },
  {
   "cell_type": "code",
   "execution_count": null,
   "id": "07d51b12",
   "metadata": {},
   "outputs": [],
   "source": [
    "three = df[(df.decimals == 3) & (df.precision > 10**(-3.5))]\n",
    "three = three[three.precision < .5]\n",
    "\n",
    "ax = sns.scatterplot(data=three, x='precision', y='MBs', palette=sns.color_palette('crest', as_cmap=True),\n",
    "                sizes=(50,250)\n",
    "\n",
    ")\n",
    "\n",
    "plt.xlabel('Minimum LD Score Kept')\n",
    "plt.ylabel('% of Original Size')\n",
    "plt.title('3 Decimals')\n",
    "# plt.xscale(\"log\")\n",
    "\n",
    "\n",
    "# plt.show()\n",
    "plt.tight_layout()\n",
    "plt.savefig('../graphics/plots/fixed_decimals.png', dpi=1000)"
   ]
  },
  {
   "cell_type": "code",
   "execution_count": null,
   "id": "34b766cb",
   "metadata": {},
   "outputs": [],
   "source": [
    "df.decimals = df.decimals.fillna(6)\n",
    "df.precision = df.precision.fillna(10**(-3.5))\n",
    "\n",
    "ax = sns.scatterplot(data=df[df.decimals < 6], x='precision', y='decimals', size=\"MBs\", hue=\"MBs\", palette=sns.color_palette('crest', as_cmap=True),\n",
    "                sizes=(50,250)\n",
    "\n",
    ")\n",
    "\n",
    "ax.legend(loc='center left', bbox_to_anchor=(1, 0.5), borderpad=2, labelspacing=2, title=\"% of Original Size\")\n",
    "plt.ylabel('Decimals')\n",
    "plt.yticks(range(1,6), labels=[1,2,3,4,5])\n",
    "plt.xlabel('Minimum LD Score Kept (logscale)')\n",
    "plt.xscale(\"log\")\n",
    "plt.xticks([10**(-3.5), 1e-3, 1e-2, 1e-1], labels=['Full', 1e-3, 1e-2, 1e-1])\n",
    "\n",
    "plt.axvline(x=10**(-3.25),  ls='--', lw=3, color='black')\n",
    "\n",
    "plt.tight_layout()\n",
    "plt.savefig('../graphics/plots/full_precision.png', dpi=1000)\n",
    "\n",
    "smallest = df[df.MBs == df.MBs.min()].iloc[0]\n",
    "\n",
    "ax.annotate(smallest.MBs, (smallest.precision, smallest.decimals),\n",
    "            xytext=(smallest.precision - .1, smallest.decimals + .3),\n",
    "            arrowprops={'arrowstyle': \"-\", 'color': 'black'})\n",
    "\n",
    "greater_than_one = df[df.MBs > 1]\n",
    "greater_than_one = greater_than_one[greater_than_one.MBs == greater_than_one.MBs.min()].iloc[0]\n",
    "ax.annotate(greater_than_one.MBs, (greater_than_one.precision, greater_than_one.decimals),\n",
    "            xytext=(greater_than_one.precision - .01, greater_than_one.decimals + .2))\n",
    "\n",
    "smaller_than_one = df[df.MBs < 1]\n",
    "smaller_than_one = smaller_than_one[smaller_than_one.MBs == smaller_than_one.MBs.max()].iloc[0]\n",
    "ax.annotate(smaller_than_one.MBs, (smaller_than_one.precision, smaller_than_one.decimals),\n",
    "            xytext=(smaller_than_one.precision - .01, smaller_than_one.decimals + .2))\n",
    "\n",
    "# plt.xticks([0, .001, .01, .1])\n",
    "plt.tight_layout()\n",
    "plt.savefig('../graphics/plots/full_precision_annotated.png', dpi=1000)\n",
    "# plt.show()"
   ]
  },
  {
   "cell_type": "code",
   "execution_count": null,
   "id": "9a396229",
   "metadata": {},
   "outputs": [],
   "source": [
    "df.decimals = df.decimals.fillna(6)\n",
    "df.precision = df.precision.fillna(10**(-3.5))\n",
    "\n",
    "ax = sns.scatterplot(data=df[(df.decimals < 6) & (df.precision > 10**(-3.5))], x='precision', y='decimals', size=\"MBs\", hue=\"MBs\", palette=sns.color_palette('crest', as_cmap=True),\n",
    "                sizes=(50,250)\n",
    "\n",
    ")\n",
    "\n",
    "ax.legend(loc='center left', bbox_to_anchor=(1, 0.5), borderpad=2, labelspacing=2, title=\"% of Original Size\")\n",
    "plt.ylabel('Decimals')\n",
    "plt.yticks(range(1,6), labels=[1,2,3,4,5])\n",
    "plt.xlabel('Minimum LD Score Kept (logscale)')\n",
    "plt.xscale(\"log\")\n",
    "# plt.xticks([10**(-3.5), 1e-3, 1e-2, 1e-1], labels=['Full', 1e-3, 1e-2, 1e-1])\n",
    "\n",
    "plt.tight_layout()\n",
    "plt.savefig('../graphics/plots/lossy.png', dpi=1000)\n",
    "\n",
    "smallest = df[df.MBs == df.MBs.min()].iloc[0]\n",
    "\n",
    "ax.annotate(smallest.MBs, (smallest.precision, smallest.decimals),\n",
    "            xytext=(smallest.precision - .1, smallest.decimals + .3),\n",
    "            arrowprops={'arrowstyle': \"-\", 'color': 'black'})\n",
    "\n",
    "greater_than_one = df[df.MBs > 1]\n",
    "greater_than_one = greater_than_one[greater_than_one.MBs == greater_than_one.MBs.min()].iloc[0]\n",
    "ax.annotate(greater_than_one.MBs, (greater_than_one.precision, greater_than_one.decimals),\n",
    "            xytext=(greater_than_one.precision - .01, greater_than_one.decimals + .2))\n",
    "\n",
    "smaller_than_one = df[df.MBs < 1]\n",
    "smaller_than_one = smaller_than_one[smaller_than_one.MBs == smaller_than_one.MBs.max()].iloc[0]\n",
    "ax.annotate(smaller_than_one.MBs, (smaller_than_one.precision, smaller_than_one.decimals),\n",
    "            xytext=(smaller_than_one.precision - .01, smaller_than_one.decimals + .2))\n",
    "\n",
    "# plt.xticks([0, .001, .01, .1])\n",
    "plt.tight_layout()\n",
    "plt.savefig('../graphics/plots/lossy_annotated.png', dpi=1000)\n",
    "# plt.show()"
   ]
  },
  {
   "cell_type": "code",
   "execution_count": null,
   "id": "b861c789",
   "metadata": {},
   "outputs": [],
   "source": [
    "fixed_precision = df[(df.decimals < 6) & (df.precision == .06)]\n",
    "\n",
    "ax = sns.scatterplot(data=fixed_precision, x='decimals', y='MBs', palette=sns.color_palette('crest', as_cmap=True),\n",
    "                sizes=(50,250)\n",
    "\n",
    ")\n",
    "\n",
    "plt.xlabel('Decimals')\n",
    "plt.ylabel('% of Original Size')\n",
    "plt.title('.06 Minimum LD Score Kept')\n",
    "plt.xticks(range(1,6))\n",
    "# plt.xscale(\"log\")\n",
    "\n",
    "\n",
    "plt.tight_layout()\n",
    "plt.savefig('../graphics/plots/fixed_precision.png', dpi=1000)"
   ]
  },
  {
   "cell_type": "code",
   "execution_count": null,
   "id": "28183bbe",
   "metadata": {},
   "outputs": [],
   "source": [
    "fixed_precision = df[(df.decimals < 6) & (df.precision == .1)]\n",
    "\n",
    "ax = sns.scatterplot(data=fixed_precision, x='decimals', y='MBs', palette=sns.color_palette('crest', as_cmap=True),\n",
    "                sizes=(50,250)\n",
    "\n",
    ")\n",
    "\n",
    "plt.xlabel('Decimals')\n",
    "plt.ylabel('% of Original Size')\n",
    "plt.title('.1 Minimum LD Score Kept')\n",
    "plt.xticks(range(1,6))\n",
    "# plt.xscale(\"log\")\n",
    "\n",
    "\n",
    "plt.tight_layout()\n",
    "plt.savefig('../graphics/plots/fixed_precision.png', dpi=1000)"
   ]
  },
  {
   "cell_type": "code",
   "execution_count": null,
   "id": "784e6910",
   "metadata": {},
   "outputs": [],
   "source": [
    "ax = sns.jointplot(data=df, x='precision', y='decimals', hue=\"MBs\")\n",
    "plt.xscale(\"log\")\n",
    "\n"
   ]
  },
  {
   "cell_type": "code",
   "execution_count": null,
   "id": "33f93e67",
   "metadata": {},
   "outputs": [],
   "source": [
    "sns.heatmap(df[['precision', 'decimals']])"
   ]
  },
  {
   "cell_type": "code",
   "execution_count": null,
   "id": "5c0b15f2",
   "metadata": {},
   "outputs": [],
   "source": [
    "plt.imshow(df)\n",
    "# plt.xscale('log')"
   ]
  },
  {
   "cell_type": "code",
   "execution_count": null,
   "id": "0b83901c",
   "metadata": {},
   "outputs": [],
   "source": []
  }
 ],
 "metadata": {
  "kernelspec": {
   "display_name": "ld-venv",
   "language": "python",
   "name": "ld-venv"
  },
  "language_info": {
   "codemirror_mode": {
    "name": "ipython",
    "version": 3
   },
   "file_extension": ".py",
   "mimetype": "text/x-python",
   "name": "python",
   "nbconvert_exporter": "python",
   "pygments_lexer": "ipython3",
   "version": "3.9.13"
  }
 },
 "nbformat": 4,
 "nbformat_minor": 5
}
