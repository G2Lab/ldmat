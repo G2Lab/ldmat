{
 "cells": [
  {
   "cell_type": "code",
   "execution_count": 1,
   "id": "2f8cc06d",
   "metadata": {},
   "outputs": [],
   "source": [
    "import numpy as np\n",
    "import scipy.sparse as sparse\n",
    "import scipy.linalg as linalg\n",
    "import os\n",
    "import pandas as pd\n",
    "import click\n",
    "import shutil\n",
    "from heapq import merge"
   ]
  },
  {
   "cell_type": "code",
   "execution_count": 2,
   "id": "e564608f",
   "metadata": {},
   "outputs": [],
   "source": [
    "m = sparse.triu(sparse.load_npz('data/chr1_1_3000001.npz').T, format=\"csr\")"
   ]
  },
  {
   "cell_type": "code",
   "execution_count": 3,
   "id": "0aaa74a3",
   "metadata": {},
   "outputs": [],
   "source": [
    "from main import adjust_to_zero"
   ]
  },
  {
   "cell_type": "code",
   "execution_count": 4,
   "id": "4d0e93ba",
   "metadata": {},
   "outputs": [
    {
     "data": {
      "text/plain": [
       "<20609x20609 sparse matrix of type '<class 'numpy.float32'>'\n",
       "\twith 212375732 stored elements in Compressed Sparse Row format>"
      ]
     },
     "execution_count": 4,
     "metadata": {},
     "output_type": "execute_result"
    }
   ],
   "source": [
    "m"
   ]
  },
  {
   "cell_type": "code",
   "execution_count": 5,
   "id": "3695a2c0",
   "metadata": {},
   "outputs": [],
   "source": [
    "reduced = adjust_to_zero(m, .1)"
   ]
  },
  {
   "cell_type": "code",
   "execution_count": 6,
   "id": "03c5c028",
   "metadata": {},
   "outputs": [
    {
     "data": {
      "text/plain": [
       "<20609x20609 sparse matrix of type '<class 'numpy.float32'>'\n",
       "\twith 4293912 stored elements in Compressed Sparse Row format>"
      ]
     },
     "execution_count": 6,
     "metadata": {},
     "output_type": "execute_result"
    }
   ],
   "source": [
    "reduced"
   ]
  },
  {
   "cell_type": "code",
   "execution_count": 9,
   "id": "a25caad9",
   "metadata": {},
   "outputs": [],
   "source": [
    "d = reduced.diagonal()"
   ]
  },
  {
   "cell_type": "code",
   "execution_count": 15,
   "id": "59af352c",
   "metadata": {},
   "outputs": [],
   "source": [
    "nonzeros = [np.count_nonzero(reduced.diagonal(i)) for i in range(reduced.shape[0])]\n"
   ]
  },
  {
   "cell_type": "code",
   "execution_count": 18,
   "id": "bd41d3ad",
   "metadata": {},
   "outputs": [],
   "source": [
    "import matplotlib.pyplot as plt\n",
    "%matplotlib inline"
   ]
  },
  {
   "cell_type": "code",
   "execution_count": 21,
   "id": "025617ba",
   "metadata": {},
   "outputs": [
    {
     "data": {
      "text/plain": [
       "[<matplotlib.lines.Line2D at 0x13eec33d0>]"
      ]
     },
     "execution_count": 21,
     "metadata": {},
     "output_type": "execute_result"
    },
    {
     "data": {
      "image/png": "[encoded data removed]",
      "text/plain": [
       "<Figure size 432x288 with 1 Axes>"
      ]
     },
     "metadata": {
      "needs_background": "light"
     },
     "output_type": "display_data"
    }
   ],
   "source": [
    "plt.plot(nonzeros[1:])"
   ]
  },
  {
   "cell_type": "code",
   "execution_count": 22,
   "id": "9db72056",
   "metadata": {},
   "outputs": [
    {
     "data": {
      "text/plain": [
       "36"
      ]
     },
     "execution_count": 22,
     "metadata": {},
     "output_type": "execute_result"
    }
   ],
   "source": [
    "nonzeros[5000]"
   ]
  },
  {
   "cell_type": "code",
   "execution_count": 24,
   "id": "39c91c59",
   "metadata": {},
   "outputs": [
    {
     "data": {
      "text/plain": [
       "7"
      ]
     },
     "execution_count": 24,
     "metadata": {},
     "output_type": "execute_result"
    }
   ],
   "source": [
    "nonzeros[10000]"
   ]
  },
  {
   "cell_type": "code",
   "execution_count": 25,
   "id": "c28f38ef",
   "metadata": {},
   "outputs": [
    {
     "data": {
      "text/plain": [
       "0"
      ]
     },
     "execution_count": 25,
     "metadata": {},
     "output_type": "execute_result"
    }
   ],
   "source": [
    "min(nonzeros)"
   ]
  },
  {
   "cell_type": "code",
   "execution_count": 27,
   "id": "64e835c5",
   "metadata": {},
   "outputs": [
    {
     "data": {
      "text/plain": [
       "9.933483152571508"
      ]
     },
     "execution_count": 27,
     "metadata": {},
     "output_type": "execute_result"
    }
   ],
   "source": [
    "np.log(reduced.shape[0])"
   ]
  },
  {
   "cell_type": "code",
   "execution_count": 28,
   "id": "1891a90d",
   "metadata": {},
   "outputs": [
    {
     "data": {
      "text/plain": [
       "6"
      ]
     },
     "execution_count": 28,
     "metadata": {},
     "output_type": "execute_result"
    }
   ],
   "source": [
    "nonzeros[8000]"
   ]
  },
  {
   "cell_type": "code",
   "execution_count": 37,
   "id": "72669365",
   "metadata": {},
   "outputs": [
    {
     "data": {
      "text/plain": [
       "5884"
      ]
     },
     "execution_count": 37,
     "metadata": {},
     "output_type": "execute_result"
    }
   ],
   "source": [
    "np.argmin(np.array(nonzeros) > np.log(reduced.shape[0]) * 2)"
   ]
  },
  {
   "cell_type": "code",
   "execution_count": 38,
   "id": "734efc8d",
   "metadata": {},
   "outputs": [
    {
     "data": {
      "text/plain": [
       "4694"
      ]
     },
     "execution_count": 38,
     "metadata": {},
     "output_type": "execute_result"
    }
   ],
   "source": [
    "nonzeros[1]"
   ]
  },
  {
   "cell_type": "code",
   "execution_count": 39,
   "id": "240cce3c",
   "metadata": {},
   "outputs": [
    {
     "data": {
      "text/plain": [
       "76285"
      ]
     },
     "execution_count": 39,
     "metadata": {},
     "output_type": "execute_result"
    }
   ],
   "source": [
    "sum(nonzeros[5884:])"
   ]
  },
  {
   "cell_type": "code",
   "execution_count": 40,
   "id": "7caa4ead",
   "metadata": {},
   "outputs": [
    {
     "data": {
      "text/plain": [
       "4217627"
      ]
     },
     "execution_count": 40,
     "metadata": {},
     "output_type": "execute_result"
    }
   ],
   "source": [
    "sum(nonzeros[:5884])"
   ]
  },
  {
   "cell_type": "code",
   "execution_count": 41,
   "id": "1cd0fb62",
   "metadata": {},
   "outputs": [],
   "source": [
    "# first index where num nonzeros is less than half of the length"
   ]
  },
  {
   "cell_type": "code",
   "execution_count": 42,
   "id": "6f89e631",
   "metadata": {},
   "outputs": [
    {
     "data": {
      "text/plain": [
       "727"
      ]
     },
     "execution_count": 42,
     "metadata": {},
     "output_type": "execute_result"
    }
   ],
   "source": [
    "nonzeros[2000]"
   ]
  },
  {
   "cell_type": "code",
   "execution_count": 43,
   "id": "0ff29504",
   "metadata": {},
   "outputs": [
    {
     "data": {
      "text/plain": [
       "1507"
      ]
     },
     "execution_count": 43,
     "metadata": {},
     "output_type": "execute_result"
    }
   ],
   "source": [
    "nonzeros[1000]"
   ]
  },
  {
   "cell_type": "code",
   "execution_count": 49,
   "id": "4b840f55",
   "metadata": {},
   "outputs": [
    {
     "name": "stderr",
     "output_type": "stream",
     "text": [
      "/var/folders/dx/2gt9564n2mn92wk25_rrrns80000gn/T/ipykernel_65702/1219192581.py:1: RuntimeWarning: divide by zero encountered in true_divide\n",
      "  relative = nonzeros / np.arange(len(nonzeros))\n"
     ]
    }
   ],
   "source": [
    "relative = nonzeros / np.arange(len(nonzeros))"
   ]
  },
  {
   "cell_type": "code",
   "execution_count": 50,
   "id": "cbd5c5d0",
   "metadata": {},
   "outputs": [
    {
     "data": {
      "text/plain": [
       "[<matplotlib.lines.Line2D at 0x16a4c8a30>]"
      ]
     },
     "execution_count": 50,
     "metadata": {},
     "output_type": "execute_result"
    },
    {
     "data": {
      "image/png": "[encoded data removed]",
      "text/plain": [
       "<Figure size 432x288 with 1 Axes>"
      ]
     },
     "metadata": {
      "needs_background": "light"
     },
     "output_type": "display_data"
    }
   ],
   "source": [
    "plt.plot(relative[1:])"
   ]
  },
  {
   "cell_type": "code",
   "execution_count": 59,
   "id": "6cbb0e81",
   "metadata": {},
   "outputs": [
    {
     "data": {
      "text/plain": [
       "1748"
      ]
     },
     "execution_count": 59,
     "metadata": {},
     "output_type": "execute_result"
    }
   ],
   "source": [
    "np.argmax(relative < .5)"
   ]
  },
  {
   "cell_type": "code",
   "execution_count": 60,
   "id": "e07bf56a",
   "metadata": {},
   "outputs": [
    {
     "data": {
      "text/plain": [
       "0.4959954233409611"
      ]
     },
     "execution_count": 60,
     "metadata": {},
     "output_type": "execute_result"
    }
   ],
   "source": [
    "relative[1748]"
   ]
  },
  {
   "cell_type": "code",
   "execution_count": 61,
   "id": "d0ede63b",
   "metadata": {},
   "outputs": [
    {
     "data": {
      "text/plain": [
       "0.5163136805953062"
      ]
     },
     "execution_count": 61,
     "metadata": {},
     "output_type": "execute_result"
    }
   ],
   "source": [
    "relative[1747]"
   ]
  },
  {
   "cell_type": "code",
   "execution_count": 62,
   "id": "a4bdb918",
   "metadata": {},
   "outputs": [
    {
     "data": {
      "text/plain": [
       "902"
      ]
     },
     "execution_count": 62,
     "metadata": {},
     "output_type": "execute_result"
    }
   ],
   "source": [
    "nonzeros[1747]"
   ]
  },
  {
   "cell_type": "code",
   "execution_count": 67,
   "id": "69a9f96e",
   "metadata": {},
   "outputs": [
    {
     "data": {
      "text/plain": [
       "1710"
      ]
     },
     "execution_count": 67,
     "metadata": {},
     "output_type": "execute_result"
    }
   ],
   "source": [
    "np.argmin(relative > .5)"
   ]
  },
  {
   "cell_type": "code",
   "execution_count": 65,
   "id": "5bdd08f0",
   "metadata": {},
   "outputs": [
    {
     "data": {
      "text/plain": [
       "array([0.51901697, 0.5       , 0.52776154])"
      ]
     },
     "execution_count": 65,
     "metadata": {},
     "output_type": "execute_result"
    }
   ],
   "source": [
    "relative[1709:1712]"
   ]
  },
  {
   "cell_type": "code",
   "execution_count": 69,
   "id": "0918043b",
   "metadata": {},
   "outputs": [
    {
     "data": {
      "text/plain": [
       "[<matplotlib.lines.Line2D at 0x16a4ff970>]"
      ]
     },
     "execution_count": 69,
     "metadata": {},
     "output_type": "execute_result"
    },
    {
     "data": {
      "image/png": "[encoded data removed]",
      "text/plain": [
       "<Figure size 432x288 with 1 Axes>"
      ]
     },
     "metadata": {
      "needs_background": "light"
     },
     "output_type": "display_data"
    }
   ],
   "source": [
    "plt.plot(relative[1000:])"
   ]
  },
  {
   "cell_type": "code",
   "execution_count": 70,
   "id": "4187e2e0",
   "metadata": {},
   "outputs": [
    {
     "data": {
      "text/plain": [
       "8718"
      ]
     },
     "execution_count": 70,
     "metadata": {},
     "output_type": "execute_result"
    }
   ],
   "source": [
    "np.argmin(nonzeros)"
   ]
  },
  {
   "cell_type": "code",
   "execution_count": 74,
   "id": "6cde247e",
   "metadata": {},
   "outputs": [
    {
     "data": {
      "text/plain": [
       "4"
      ]
     },
     "execution_count": 74,
     "metadata": {},
     "output_type": "execute_result"
    }
   ],
   "source": [
    "nonzeros[8711]"
   ]
  },
  {
   "cell_type": "code",
   "execution_count": 78,
   "id": "9b70af86",
   "metadata": {},
   "outputs": [
    {
     "data": {
      "text/plain": [
       "1748"
      ]
     },
     "execution_count": 78,
     "metadata": {},
     "output_type": "execute_result"
    }
   ],
   "source": [
    "np.argmax(relative < .5)"
   ]
  },
  {
   "cell_type": "code",
   "execution_count": null,
   "id": "249e5c26",
   "metadata": {},
   "outputs": [],
   "source": []
  }
 ],
 "metadata": {
  "kernelspec": {
   "display_name": "ld-venv",
   "language": "python",
   "name": "ld-venv"
  },
  "language_info": {
   "codemirror_mode": {
    "name": "ipython",
    "version": 3
   },
   "file_extension": ".py",
   "mimetype": "text/x-python",
   "name": "python",
   "nbconvert_exporter": "python",
   "pygments_lexer": "ipython3",
   "version": "3.9.12"
  }
 },
 "nbformat": 4,
 "nbformat_minor": 5
}
