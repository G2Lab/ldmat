{
 "cells": [
  {
   "cell_type": "code",
   "execution_count": 1,
   "id": "c55e4527",
   "metadata": {},
   "outputs": [],
   "source": [
    "import numpy as np\n",
    "import scipy.sparse as sp\n",
    "import os"
   ]
  },
  {
   "cell_type": "code",
   "execution_count": 2,
   "id": "71c5a022",
   "metadata": {},
   "outputs": [],
   "source": [
    "m = sp.load_npz('col_reduced_2000/block_0_2000.npz')"
   ]
  },
  {
   "cell_type": "code",
   "execution_count": 3,
   "id": "178065c0",
   "metadata": {},
   "outputs": [
    {
     "data": {
      "text/plain": [
       "<2000x2000 sparse matrix of type '<class 'numpy.float32'>'\n",
       "\twith 2001000 stored elements in Compressed Sparse Row format>"
      ]
     },
     "execution_count": 3,
     "metadata": {},
     "output_type": "execute_result"
    }
   ],
   "source": [
    "m"
   ]
  },
  {
   "cell_type": "code",
   "execution_count": 9,
   "id": "6b5d0b70",
   "metadata": {},
   "outputs": [
    {
     "data": {
      "text/plain": [
       "0.0"
      ]
     },
     "execution_count": 9,
     "metadata": {},
     "output_type": "execute_result"
    }
   ],
   "source": [
    "m[0, 10]"
   ]
  },
  {
   "cell_type": "code",
   "execution_count": 11,
   "id": "9640ec90",
   "metadata": {},
   "outputs": [],
   "source": [
    "arr = np.array([])"
   ]
  },
  {
   "cell_type": "code",
   "execution_count": 52,
   "id": "e5360f31",
   "metadata": {},
   "outputs": [],
   "source": [
    "arr = []\n",
    "for i in range(m.shape[0]):\n",
    "    arr += m[i, :i+1].toarray()[0].tolist()\n",
    "        "
   ]
  },
  {
   "cell_type": "code",
   "execution_count": 53,
   "id": "94194f8b",
   "metadata": {},
   "outputs": [
    {
     "data": {
      "text/plain": [
       "2001000"
      ]
     },
     "execution_count": 53,
     "metadata": {},
     "output_type": "execute_result"
    }
   ],
   "source": [
    "len(arr)"
   ]
  },
  {
   "cell_type": "code",
   "execution_count": 55,
   "id": "55ce98f1",
   "metadata": {},
   "outputs": [
    {
     "data": {
      "text/plain": [
       "[0.5,\n",
       " 0.9501392841339111,\n",
       " 0.5,\n",
       " -0.2349247932434082,\n",
       " -0.22939951717853546,\n",
       " 0.5,\n",
       " 0.10599888861179352,\n",
       " 0.10877596586942673,\n",
       " -0.02412562444806099,\n",
       " 0.5]"
      ]
     },
     "execution_count": 55,
     "metadata": {},
     "output_type": "execute_result"
    }
   ],
   "source": [
    "arr[:10]"
   ]
  },
  {
   "cell_type": "code",
   "execution_count": 57,
   "id": "c9bf4c62",
   "metadata": {},
   "outputs": [],
   "source": [
    "n = np.array(arr)"
   ]
  },
  {
   "cell_type": "code",
   "execution_count": 58,
   "id": "28206897",
   "metadata": {},
   "outputs": [
    {
     "data": {
      "text/plain": [
       "2001000"
      ]
     },
     "execution_count": 58,
     "metadata": {},
     "output_type": "execute_result"
    }
   ],
   "source": [
    "len(n)"
   ]
  },
  {
   "cell_type": "code",
   "execution_count": 59,
   "id": "53a52235",
   "metadata": {},
   "outputs": [],
   "source": [
    "np.save('densearr', arr)"
   ]
  },
  {
   "cell_type": "code",
   "execution_count": 60,
   "id": "ad3bcf09",
   "metadata": {},
   "outputs": [],
   "source": [
    "np.savez_compressed('densecomp', a=arr)"
   ]
  },
  {
   "cell_type": "code",
   "execution_count": 61,
   "id": "ef20d2d7",
   "metadata": {},
   "outputs": [],
   "source": [
    "m = sp.load_npz('col_reduced_2000/block_0_2000.npz')"
   ]
  },
  {
   "cell_type": "code",
   "execution_count": 62,
   "id": "d12fad95",
   "metadata": {},
   "outputs": [],
   "source": [
    "m = sp.load_npz('col_reduced_2000/col_0_2000.npz')"
   ]
  },
  {
   "cell_type": "code",
   "execution_count": 63,
   "id": "daaaff8e",
   "metadata": {},
   "outputs": [
    {
     "data": {
      "text/plain": [
       "<33503x2000 sparse matrix of type '<class 'numpy.float32'>'\n",
       "\twith 5741386 stored elements in COOrdinate format>"
      ]
     },
     "execution_count": 63,
     "metadata": {},
     "output_type": "execute_result"
    }
   ],
   "source": [
    "m"
   ]
  },
  {
   "cell_type": "code",
   "execution_count": null,
   "id": "c3ce9932",
   "metadata": {},
   "outputs": [],
   "source": []
  }
 ],
 "metadata": {
  "kernelspec": {
   "display_name": "ld-venv",
   "language": "python",
   "name": "ld-venv"
  },
  "language_info": {
   "codemirror_mode": {
    "name": "ipython",
    "version": 3
   },
   "file_extension": ".py",
   "mimetype": "text/x-python",
   "name": "python",
   "nbconvert_exporter": "python",
   "pygments_lexer": "ipython3",
   "version": "3.9.12"
  }
 },
 "nbformat": 4,
 "nbformat_minor": 5
}
